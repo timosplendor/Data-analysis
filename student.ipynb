{
  "cells": [
    {
      "cell_type": "markdown",
      "metadata": {
        "id": "view-in-github",
        "colab_type": "text"
      },
      "source": [
        "<a href=\"https://colab.research.google.com/github/timosplendor/Data-analysis/blob/main/student.ipynb\" target=\"_parent\"><img src=\"https://colab.research.google.com/assets/colab-badge.svg\" alt=\"Open In Colab\"/></a>"
      ]
    },
    {
      "cell_type": "markdown",
      "metadata": {
        "id": "N9OsZqcmhY38"
      },
      "source": [
        "## This project involves a step-by-step approach building a student academic performance prediction model using a decision tree:\n",
        "\n",
        "1.\tData Collection: The first step I took was to gather a dataset that includes relevant features such as student demographics (age, gender, ethnicity), socioeconomic status, previous academic performance (grades, GPA), attendance records, study habits, extracurricular activities, and any other information that may impact academic performance. I ensured the dataset contains a continuous variable (GPA) to be predicted.\n",
        "\n",
        "2.\tData Preprocessing: Clean the dataset by handling missing values, removing irrelevant features, and converting categorical variables into numerical representations. I used techniques like imputation, or label encoding.\n",
        "\n",
        "3.\tData Split: Divide the dataset into training and testing sets. The training set was used to train the decision tree model, while the testing set was be used to evaluate its performance.\n",
        "\n",
        "4.\tDecision Tree Model Training: Use the training set I trained a decision tree classifier, Decision trees can handle both classification and regression tasks. The decision tree algorithm will learn to make decisions based on the input features to predict the student's academic performance.\n",
        "\n",
        "5.\tModel Evaluation: Evaluate the trained decision tree model using the testing set. Use appropriate evaluation metrics such as accuracy, precision, recall, F1-score, or mean squared error (MSE) to assess the model's performance.\n",
        "\n"
      ]
    },
    {
      "cell_type": "code",
      "source": [
        "from google.colab import drive\n",
        "drive.mount('/content/drive')"
      ],
      "metadata": {
        "colab": {
          "base_uri": "https://localhost:8080/"
        },
        "id": "Y_V51QNBoH3Q",
        "outputId": "aea40820-3606-4dbc-de91-c254b0204c55"
      },
      "execution_count": 2,
      "outputs": [
        {
          "output_type": "stream",
          "name": "stdout",
          "text": [
            "Mounted at /content/drive\n"
          ]
        }
      ]
    },
    {
      "cell_type": "code",
      "source": [
        "import os\n",
        "os.chdir('/content/drive/MyDrive/student_performance')"
      ],
      "metadata": {
        "id": "-g_8xLsirmCQ"
      },
      "execution_count": 3,
      "outputs": []
    },
    {
      "cell_type": "code",
      "execution_count": 4,
      "metadata": {
        "scrolled": true,
        "colab": {
          "base_uri": "https://localhost:8080/",
          "height": 423
        },
        "id": "MfQ7_o92hY4G",
        "outputId": "f9b61fbc-6da5-42a8-eda6-7fa12dbd4fac"
      },
      "outputs": [
        {
          "output_type": "execute_result",
          "data": {
            "text/plain": [
              "      LEVEL FAMILY ANNUAL INCOME CLASS POPULATION     SEX TYPE OF SEC SCHOOL   \\\n",
              "0    Year 2               Medium  Greater than 50  Female              Public   \n",
              "1    Year 4               Medium  Greater than 50  Female             Private   \n",
              "2    Year 4               Medium  Greater than 50    Male              Public   \n",
              "3    Year 1               Medium  Greater than 50  Female              Public   \n",
              "4    Year 2                 High  Greater than 50    Male             Private   \n",
              "..      ...                  ...              ...     ...                 ...   \n",
              "259  Year 3               Medium  Greater than 50    Male             Private   \n",
              "260  Year 2               Medium  Greater than 50    Male              Public   \n",
              "261  Year 3               Medium  Greater than 50    Male             Private   \n",
              "262  Year 3               Medium  Greater than 50    Male             Private   \n",
              "263  Year 3               Medium  Greater than 50    Male              Public   \n",
              "\n",
              "    READING HOUR PER WEEK  STUDYING DREAM COURSE  CGPA  \n",
              "0                1-5 HOURS                    No  4.52  \n",
              "1                1-5 HOURS                    No  2.35  \n",
              "2                1-5 HOURS                   Yes   3.4  \n",
              "3              21-40 HOURS                    No  3.82  \n",
              "4               5-20 HOURS                   Yes   3.5  \n",
              "..                     ...                   ...   ...  \n",
              "259              1-5 HOURS                   Yes     4  \n",
              "260             5-20 HOURS                   Yes   3.8  \n",
              "261              1-5 HOURS                   Yes   3.9  \n",
              "262              1-5 HOURS                    No   2.8  \n",
              "263             5-20 HOURS                   Yes   3.5  \n",
              "\n",
              "[264 rows x 8 columns]"
            ],
            "text/html": [
              "\n",
              "  <div id=\"df-d691099a-89d8-4063-95f8-adaa34bbe942\">\n",
              "    <div class=\"colab-df-container\">\n",
              "      <div>\n",
              "<style scoped>\n",
              "    .dataframe tbody tr th:only-of-type {\n",
              "        vertical-align: middle;\n",
              "    }\n",
              "\n",
              "    .dataframe tbody tr th {\n",
              "        vertical-align: top;\n",
              "    }\n",
              "\n",
              "    .dataframe thead th {\n",
              "        text-align: right;\n",
              "    }\n",
              "</style>\n",
              "<table border=\"1\" class=\"dataframe\">\n",
              "  <thead>\n",
              "    <tr style=\"text-align: right;\">\n",
              "      <th></th>\n",
              "      <th>LEVEL</th>\n",
              "      <th>FAMILY ANNUAL INCOME</th>\n",
              "      <th>CLASS POPULATION</th>\n",
              "      <th>SEX</th>\n",
              "      <th>TYPE OF SEC SCHOOL</th>\n",
              "      <th>READING HOUR PER WEEK</th>\n",
              "      <th>STUDYING DREAM COURSE</th>\n",
              "      <th>CGPA</th>\n",
              "    </tr>\n",
              "  </thead>\n",
              "  <tbody>\n",
              "    <tr>\n",
              "      <th>0</th>\n",
              "      <td>Year 2</td>\n",
              "      <td>Medium</td>\n",
              "      <td>Greater than 50</td>\n",
              "      <td>Female</td>\n",
              "      <td>Public</td>\n",
              "      <td>1-5 HOURS</td>\n",
              "      <td>No</td>\n",
              "      <td>4.52</td>\n",
              "    </tr>\n",
              "    <tr>\n",
              "      <th>1</th>\n",
              "      <td>Year 4</td>\n",
              "      <td>Medium</td>\n",
              "      <td>Greater than 50</td>\n",
              "      <td>Female</td>\n",
              "      <td>Private</td>\n",
              "      <td>1-5 HOURS</td>\n",
              "      <td>No</td>\n",
              "      <td>2.35</td>\n",
              "    </tr>\n",
              "    <tr>\n",
              "      <th>2</th>\n",
              "      <td>Year 4</td>\n",
              "      <td>Medium</td>\n",
              "      <td>Greater than 50</td>\n",
              "      <td>Male</td>\n",
              "      <td>Public</td>\n",
              "      <td>1-5 HOURS</td>\n",
              "      <td>Yes</td>\n",
              "      <td>3.4</td>\n",
              "    </tr>\n",
              "    <tr>\n",
              "      <th>3</th>\n",
              "      <td>Year 1</td>\n",
              "      <td>Medium</td>\n",
              "      <td>Greater than 50</td>\n",
              "      <td>Female</td>\n",
              "      <td>Public</td>\n",
              "      <td>21-40 HOURS</td>\n",
              "      <td>No</td>\n",
              "      <td>3.82</td>\n",
              "    </tr>\n",
              "    <tr>\n",
              "      <th>4</th>\n",
              "      <td>Year 2</td>\n",
              "      <td>High</td>\n",
              "      <td>Greater than 50</td>\n",
              "      <td>Male</td>\n",
              "      <td>Private</td>\n",
              "      <td>5-20 HOURS</td>\n",
              "      <td>Yes</td>\n",
              "      <td>3.5</td>\n",
              "    </tr>\n",
              "    <tr>\n",
              "      <th>...</th>\n",
              "      <td>...</td>\n",
              "      <td>...</td>\n",
              "      <td>...</td>\n",
              "      <td>...</td>\n",
              "      <td>...</td>\n",
              "      <td>...</td>\n",
              "      <td>...</td>\n",
              "      <td>...</td>\n",
              "    </tr>\n",
              "    <tr>\n",
              "      <th>259</th>\n",
              "      <td>Year 3</td>\n",
              "      <td>Medium</td>\n",
              "      <td>Greater than 50</td>\n",
              "      <td>Male</td>\n",
              "      <td>Private</td>\n",
              "      <td>1-5 HOURS</td>\n",
              "      <td>Yes</td>\n",
              "      <td>4</td>\n",
              "    </tr>\n",
              "    <tr>\n",
              "      <th>260</th>\n",
              "      <td>Year 2</td>\n",
              "      <td>Medium</td>\n",
              "      <td>Greater than 50</td>\n",
              "      <td>Male</td>\n",
              "      <td>Public</td>\n",
              "      <td>5-20 HOURS</td>\n",
              "      <td>Yes</td>\n",
              "      <td>3.8</td>\n",
              "    </tr>\n",
              "    <tr>\n",
              "      <th>261</th>\n",
              "      <td>Year 3</td>\n",
              "      <td>Medium</td>\n",
              "      <td>Greater than 50</td>\n",
              "      <td>Male</td>\n",
              "      <td>Private</td>\n",
              "      <td>1-5 HOURS</td>\n",
              "      <td>Yes</td>\n",
              "      <td>3.9</td>\n",
              "    </tr>\n",
              "    <tr>\n",
              "      <th>262</th>\n",
              "      <td>Year 3</td>\n",
              "      <td>Medium</td>\n",
              "      <td>Greater than 50</td>\n",
              "      <td>Male</td>\n",
              "      <td>Private</td>\n",
              "      <td>1-5 HOURS</td>\n",
              "      <td>No</td>\n",
              "      <td>2.8</td>\n",
              "    </tr>\n",
              "    <tr>\n",
              "      <th>263</th>\n",
              "      <td>Year 3</td>\n",
              "      <td>Medium</td>\n",
              "      <td>Greater than 50</td>\n",
              "      <td>Male</td>\n",
              "      <td>Public</td>\n",
              "      <td>5-20 HOURS</td>\n",
              "      <td>Yes</td>\n",
              "      <td>3.5</td>\n",
              "    </tr>\n",
              "  </tbody>\n",
              "</table>\n",
              "<p>264 rows × 8 columns</p>\n",
              "</div>\n",
              "      <button class=\"colab-df-convert\" onclick=\"convertToInteractive('df-d691099a-89d8-4063-95f8-adaa34bbe942')\"\n",
              "              title=\"Convert this dataframe to an interactive table.\"\n",
              "              style=\"display:none;\">\n",
              "        \n",
              "  <svg xmlns=\"http://www.w3.org/2000/svg\" height=\"24px\"viewBox=\"0 0 24 24\"\n",
              "       width=\"24px\">\n",
              "    <path d=\"M0 0h24v24H0V0z\" fill=\"none\"/>\n",
              "    <path d=\"M18.56 5.44l.94 2.06.94-2.06 2.06-.94-2.06-.94-.94-2.06-.94 2.06-2.06.94zm-11 1L8.5 8.5l.94-2.06 2.06-.94-2.06-.94L8.5 2.5l-.94 2.06-2.06.94zm10 10l.94 2.06.94-2.06 2.06-.94-2.06-.94-.94-2.06-.94 2.06-2.06.94z\"/><path d=\"M17.41 7.96l-1.37-1.37c-.4-.4-.92-.59-1.43-.59-.52 0-1.04.2-1.43.59L10.3 9.45l-7.72 7.72c-.78.78-.78 2.05 0 2.83L4 21.41c.39.39.9.59 1.41.59.51 0 1.02-.2 1.41-.59l7.78-7.78 2.81-2.81c.8-.78.8-2.07 0-2.86zM5.41 20L4 18.59l7.72-7.72 1.47 1.35L5.41 20z\"/>\n",
              "  </svg>\n",
              "      </button>\n",
              "      \n",
              "  <style>\n",
              "    .colab-df-container {\n",
              "      display:flex;\n",
              "      flex-wrap:wrap;\n",
              "      gap: 12px;\n",
              "    }\n",
              "\n",
              "    .colab-df-convert {\n",
              "      background-color: #E8F0FE;\n",
              "      border: none;\n",
              "      border-radius: 50%;\n",
              "      cursor: pointer;\n",
              "      display: none;\n",
              "      fill: #1967D2;\n",
              "      height: 32px;\n",
              "      padding: 0 0 0 0;\n",
              "      width: 32px;\n",
              "    }\n",
              "\n",
              "    .colab-df-convert:hover {\n",
              "      background-color: #E2EBFA;\n",
              "      box-shadow: 0px 1px 2px rgba(60, 64, 67, 0.3), 0px 1px 3px 1px rgba(60, 64, 67, 0.15);\n",
              "      fill: #174EA6;\n",
              "    }\n",
              "\n",
              "    [theme=dark] .colab-df-convert {\n",
              "      background-color: #3B4455;\n",
              "      fill: #D2E3FC;\n",
              "    }\n",
              "\n",
              "    [theme=dark] .colab-df-convert:hover {\n",
              "      background-color: #434B5C;\n",
              "      box-shadow: 0px 1px 3px 1px rgba(0, 0, 0, 0.15);\n",
              "      filter: drop-shadow(0px 1px 2px rgba(0, 0, 0, 0.3));\n",
              "      fill: #FFFFFF;\n",
              "    }\n",
              "  </style>\n",
              "\n",
              "      <script>\n",
              "        const buttonEl =\n",
              "          document.querySelector('#df-d691099a-89d8-4063-95f8-adaa34bbe942 button.colab-df-convert');\n",
              "        buttonEl.style.display =\n",
              "          google.colab.kernel.accessAllowed ? 'block' : 'none';\n",
              "\n",
              "        async function convertToInteractive(key) {\n",
              "          const element = document.querySelector('#df-d691099a-89d8-4063-95f8-adaa34bbe942');\n",
              "          const dataTable =\n",
              "            await google.colab.kernel.invokeFunction('convertToInteractive',\n",
              "                                                     [key], {});\n",
              "          if (!dataTable) return;\n",
              "\n",
              "          const docLinkHtml = 'Like what you see? Visit the ' +\n",
              "            '<a target=\"_blank\" href=https://colab.research.google.com/notebooks/data_table.ipynb>data table notebook</a>'\n",
              "            + ' to learn more about interactive tables.';\n",
              "          element.innerHTML = '';\n",
              "          dataTable['output_type'] = 'display_data';\n",
              "          await google.colab.output.renderOutput(dataTable, element);\n",
              "          const docLink = document.createElement('div');\n",
              "          docLink.innerHTML = docLinkHtml;\n",
              "          element.appendChild(docLink);\n",
              "        }\n",
              "      </script>\n",
              "    </div>\n",
              "  </div>\n",
              "  "
            ]
          },
          "metadata": {},
          "execution_count": 4
        }
      ],
      "source": [
        "\n",
        "from sklearn.model_selection import train_test_split\n",
        "from sklearn.tree import DecisionTreeClassifier\n",
        "from sklearn import metrics\n",
        "import pandas as pd\n",
        "student = pd.read_csv('student.csv')\n",
        "student"
      ]
    },
    {
      "cell_type": "code",
      "execution_count": 5,
      "metadata": {
        "id": "GMFP5d3vhY4L",
        "colab": {
          "base_uri": "https://localhost:8080/"
        },
        "outputId": "16b2feea-f1a3-479d-e021-81418b9afc49"
      },
      "outputs": [
        {
          "output_type": "execute_result",
          "data": {
            "text/plain": [
              "array(['1-5 HOURS', '21-40 HOURS', '5-20 HOURS', 'GREATER THAN 40'],\n",
              "      dtype=object)"
            ]
          },
          "metadata": {},
          "execution_count": 5
        }
      ],
      "source": [
        "student['READING HOUR PER WEEK '].unique()"
      ]
    },
    {
      "cell_type": "code",
      "execution_count": 5,
      "metadata": {
        "id": "ndOnpsKThY4M"
      },
      "outputs": [],
      "source": [
        "\n"
      ]
    },
    {
      "cell_type": "markdown",
      "metadata": {
        "id": "vPdGdxmohY4N"
      },
      "source": [
        " # DATA PREPROCESSING AND CLEANING"
      ]
    },
    {
      "cell_type": "code",
      "execution_count": 6,
      "metadata": {
        "id": "gyCqC58phY4O",
        "colab": {
          "base_uri": "https://localhost:8080/"
        },
        "outputId": "7d0c4bad-2bc7-4d05-8327-2bdce9042f13"
      },
      "outputs": [
        {
          "output_type": "stream",
          "name": "stdout",
          "text": [
            "LEVEL                     0\n",
            "FAMILY ANNUAL INCOME      0\n",
            "CLASS POPULATION          0\n",
            "SEX                       0\n",
            "TYPE OF SEC SCHOOL        0\n",
            "READING HOUR PER WEEK     0\n",
            "STUDYING DREAM COURSE     0\n",
            "CGPA                      0\n",
            "dtype: int64\n"
          ]
        }
      ],
      "source": [
        "# Check for missing values\n",
        "print(student.isnull().sum())"
      ]
    },
    {
      "cell_type": "code",
      "execution_count": 7,
      "metadata": {
        "id": "kRI43TguhY4P"
      },
      "outputs": [],
      "source": [
        "student['FAMILY ANNUAL INCOME'] = student['FAMILY ANNUAL INCOME'].apply(lambda y: y.split(';')[0] if ';' in str(y) else y)\n",
        "student['LEVEL'] = student['LEVEL'].apply(lambda y: y.split(';')[0] if ';' in str(y) else y)\n",
        "student['CLASS POPULATION'] = student['CLASS POPULATION'].apply(lambda y: y.split(';')[0] if ';' in str(y) else y)\n",
        "student['STUDYING DREAM COURSE'] = student['STUDYING DREAM COURSE'].apply(lambda y: y.split(';')[0] if ';' in str(y) else y)\n",
        "\n",
        "\n"
      ]
    },
    {
      "cell_type": "code",
      "execution_count": 8,
      "metadata": {
        "id": "gq73VI6ohY4R"
      },
      "outputs": [],
      "source": [
        "#converse 25-nov and 10 jan that was mistakely capture to it true value in class population column\n",
        "student['CLASS POPULATION'] = student['CLASS POPULATION'].apply(lambda x: \"11-25\" if x == \"25-Nov\" else x)\n",
        "student['CLASS POPULATION'] = student['CLASS POPULATION'].apply(lambda D: \"26-50\" if D == \"10-Jan\" else D)\n",
        "student['CLASS POPULATION'] = student['CLASS POPULATION'].apply(lambda D: \"26-50\" if D == \"1-Jan\" else D)"
      ]
    },
    {
      "cell_type": "code",
      "execution_count": 9,
      "metadata": {
        "id": "mzDmTbWzhY4T",
        "colab": {
          "base_uri": "https://localhost:8080/"
        },
        "outputId": "a2cb8298-4b40-46c6-9164-2b85e7e47b5e"
      },
      "outputs": [
        {
          "output_type": "execute_result",
          "data": {
            "text/plain": [
              "array(['Greater than 50', '26-50', '11-25', '1-10'], dtype=object)"
            ]
          },
          "metadata": {},
          "execution_count": 9
        }
      ],
      "source": [
        "student['CLASS POPULATION'].unique()"
      ]
    },
    {
      "cell_type": "code",
      "execution_count": 10,
      "metadata": {
        "scrolled": true,
        "id": "gANSr9exhY4U"
      },
      "outputs": [],
      "source": [
        "# Check condition and assign mode of the column if CGPA passes 5.0\n",
        "mode_value = student['CGPA'].mode().iloc[0]\n",
        "student.loc[student['CGPA'] == '2:52', 'CGPA'] = 'Specific value'\n",
        "student['CGPA'] = pd.to_numeric(student['CGPA'], errors='coerce')  # Convert CGPA column to numeric\n",
        "student.loc[student['CGPA'] > 5.0, 'CGPA'] = mode_value"
      ]
    },
    {
      "cell_type": "code",
      "execution_count": 11,
      "metadata": {
        "id": "_OI1mh3fhY4V",
        "colab": {
          "base_uri": "https://localhost:8080/",
          "height": 423
        },
        "outputId": "92d3cb35-fce5-4c22-c96a-1b8c1cd95e53"
      },
      "outputs": [
        {
          "output_type": "execute_result",
          "data": {
            "text/plain": [
              "      LEVEL FAMILY ANNUAL INCOME CLASS POPULATION     SEX TYPE OF SEC SCHOOL   \\\n",
              "0    Year 2               Medium  Greater than 50  Female              Public   \n",
              "1    Year 4               Medium  Greater than 50  Female             Private   \n",
              "2    Year 4               Medium  Greater than 50    Male              Public   \n",
              "3    Year 1               Medium  Greater than 50  Female              Public   \n",
              "4    Year 2                 High  Greater than 50    Male             Private   \n",
              "..      ...                  ...              ...     ...                 ...   \n",
              "259  Year 3               Medium  Greater than 50    Male             Private   \n",
              "260  Year 2               Medium  Greater than 50    Male              Public   \n",
              "261  Year 3               Medium  Greater than 50    Male             Private   \n",
              "262  Year 3               Medium  Greater than 50    Male             Private   \n",
              "263  Year 3               Medium  Greater than 50    Male              Public   \n",
              "\n",
              "    READING HOUR PER WEEK  STUDYING DREAM COURSE  CGPA  \n",
              "0                1-5 HOURS                    No  4.52  \n",
              "1                1-5 HOURS                    No  2.35  \n",
              "2                1-5 HOURS                   Yes   3.4  \n",
              "3              21-40 HOURS                    No  3.82  \n",
              "4               5-20 HOURS                   Yes   3.5  \n",
              "..                     ...                   ...   ...  \n",
              "259              1-5 HOURS                   Yes   4.0  \n",
              "260             5-20 HOURS                   Yes   3.8  \n",
              "261              1-5 HOURS                   Yes   3.9  \n",
              "262              1-5 HOURS                    No   2.8  \n",
              "263             5-20 HOURS                   Yes   3.5  \n",
              "\n",
              "[264 rows x 8 columns]"
            ],
            "text/html": [
              "\n",
              "  <div id=\"df-62e2637c-e70c-410c-8880-1f2f56a31609\">\n",
              "    <div class=\"colab-df-container\">\n",
              "      <div>\n",
              "<style scoped>\n",
              "    .dataframe tbody tr th:only-of-type {\n",
              "        vertical-align: middle;\n",
              "    }\n",
              "\n",
              "    .dataframe tbody tr th {\n",
              "        vertical-align: top;\n",
              "    }\n",
              "\n",
              "    .dataframe thead th {\n",
              "        text-align: right;\n",
              "    }\n",
              "</style>\n",
              "<table border=\"1\" class=\"dataframe\">\n",
              "  <thead>\n",
              "    <tr style=\"text-align: right;\">\n",
              "      <th></th>\n",
              "      <th>LEVEL</th>\n",
              "      <th>FAMILY ANNUAL INCOME</th>\n",
              "      <th>CLASS POPULATION</th>\n",
              "      <th>SEX</th>\n",
              "      <th>TYPE OF SEC SCHOOL</th>\n",
              "      <th>READING HOUR PER WEEK</th>\n",
              "      <th>STUDYING DREAM COURSE</th>\n",
              "      <th>CGPA</th>\n",
              "    </tr>\n",
              "  </thead>\n",
              "  <tbody>\n",
              "    <tr>\n",
              "      <th>0</th>\n",
              "      <td>Year 2</td>\n",
              "      <td>Medium</td>\n",
              "      <td>Greater than 50</td>\n",
              "      <td>Female</td>\n",
              "      <td>Public</td>\n",
              "      <td>1-5 HOURS</td>\n",
              "      <td>No</td>\n",
              "      <td>4.52</td>\n",
              "    </tr>\n",
              "    <tr>\n",
              "      <th>1</th>\n",
              "      <td>Year 4</td>\n",
              "      <td>Medium</td>\n",
              "      <td>Greater than 50</td>\n",
              "      <td>Female</td>\n",
              "      <td>Private</td>\n",
              "      <td>1-5 HOURS</td>\n",
              "      <td>No</td>\n",
              "      <td>2.35</td>\n",
              "    </tr>\n",
              "    <tr>\n",
              "      <th>2</th>\n",
              "      <td>Year 4</td>\n",
              "      <td>Medium</td>\n",
              "      <td>Greater than 50</td>\n",
              "      <td>Male</td>\n",
              "      <td>Public</td>\n",
              "      <td>1-5 HOURS</td>\n",
              "      <td>Yes</td>\n",
              "      <td>3.4</td>\n",
              "    </tr>\n",
              "    <tr>\n",
              "      <th>3</th>\n",
              "      <td>Year 1</td>\n",
              "      <td>Medium</td>\n",
              "      <td>Greater than 50</td>\n",
              "      <td>Female</td>\n",
              "      <td>Public</td>\n",
              "      <td>21-40 HOURS</td>\n",
              "      <td>No</td>\n",
              "      <td>3.82</td>\n",
              "    </tr>\n",
              "    <tr>\n",
              "      <th>4</th>\n",
              "      <td>Year 2</td>\n",
              "      <td>High</td>\n",
              "      <td>Greater than 50</td>\n",
              "      <td>Male</td>\n",
              "      <td>Private</td>\n",
              "      <td>5-20 HOURS</td>\n",
              "      <td>Yes</td>\n",
              "      <td>3.5</td>\n",
              "    </tr>\n",
              "    <tr>\n",
              "      <th>...</th>\n",
              "      <td>...</td>\n",
              "      <td>...</td>\n",
              "      <td>...</td>\n",
              "      <td>...</td>\n",
              "      <td>...</td>\n",
              "      <td>...</td>\n",
              "      <td>...</td>\n",
              "      <td>...</td>\n",
              "    </tr>\n",
              "    <tr>\n",
              "      <th>259</th>\n",
              "      <td>Year 3</td>\n",
              "      <td>Medium</td>\n",
              "      <td>Greater than 50</td>\n",
              "      <td>Male</td>\n",
              "      <td>Private</td>\n",
              "      <td>1-5 HOURS</td>\n",
              "      <td>Yes</td>\n",
              "      <td>4.0</td>\n",
              "    </tr>\n",
              "    <tr>\n",
              "      <th>260</th>\n",
              "      <td>Year 2</td>\n",
              "      <td>Medium</td>\n",
              "      <td>Greater than 50</td>\n",
              "      <td>Male</td>\n",
              "      <td>Public</td>\n",
              "      <td>5-20 HOURS</td>\n",
              "      <td>Yes</td>\n",
              "      <td>3.8</td>\n",
              "    </tr>\n",
              "    <tr>\n",
              "      <th>261</th>\n",
              "      <td>Year 3</td>\n",
              "      <td>Medium</td>\n",
              "      <td>Greater than 50</td>\n",
              "      <td>Male</td>\n",
              "      <td>Private</td>\n",
              "      <td>1-5 HOURS</td>\n",
              "      <td>Yes</td>\n",
              "      <td>3.9</td>\n",
              "    </tr>\n",
              "    <tr>\n",
              "      <th>262</th>\n",
              "      <td>Year 3</td>\n",
              "      <td>Medium</td>\n",
              "      <td>Greater than 50</td>\n",
              "      <td>Male</td>\n",
              "      <td>Private</td>\n",
              "      <td>1-5 HOURS</td>\n",
              "      <td>No</td>\n",
              "      <td>2.8</td>\n",
              "    </tr>\n",
              "    <tr>\n",
              "      <th>263</th>\n",
              "      <td>Year 3</td>\n",
              "      <td>Medium</td>\n",
              "      <td>Greater than 50</td>\n",
              "      <td>Male</td>\n",
              "      <td>Public</td>\n",
              "      <td>5-20 HOURS</td>\n",
              "      <td>Yes</td>\n",
              "      <td>3.5</td>\n",
              "    </tr>\n",
              "  </tbody>\n",
              "</table>\n",
              "<p>264 rows × 8 columns</p>\n",
              "</div>\n",
              "      <button class=\"colab-df-convert\" onclick=\"convertToInteractive('df-62e2637c-e70c-410c-8880-1f2f56a31609')\"\n",
              "              title=\"Convert this dataframe to an interactive table.\"\n",
              "              style=\"display:none;\">\n",
              "        \n",
              "  <svg xmlns=\"http://www.w3.org/2000/svg\" height=\"24px\"viewBox=\"0 0 24 24\"\n",
              "       width=\"24px\">\n",
              "    <path d=\"M0 0h24v24H0V0z\" fill=\"none\"/>\n",
              "    <path d=\"M18.56 5.44l.94 2.06.94-2.06 2.06-.94-2.06-.94-.94-2.06-.94 2.06-2.06.94zm-11 1L8.5 8.5l.94-2.06 2.06-.94-2.06-.94L8.5 2.5l-.94 2.06-2.06.94zm10 10l.94 2.06.94-2.06 2.06-.94-2.06-.94-.94-2.06-.94 2.06-2.06.94z\"/><path d=\"M17.41 7.96l-1.37-1.37c-.4-.4-.92-.59-1.43-.59-.52 0-1.04.2-1.43.59L10.3 9.45l-7.72 7.72c-.78.78-.78 2.05 0 2.83L4 21.41c.39.39.9.59 1.41.59.51 0 1.02-.2 1.41-.59l7.78-7.78 2.81-2.81c.8-.78.8-2.07 0-2.86zM5.41 20L4 18.59l7.72-7.72 1.47 1.35L5.41 20z\"/>\n",
              "  </svg>\n",
              "      </button>\n",
              "      \n",
              "  <style>\n",
              "    .colab-df-container {\n",
              "      display:flex;\n",
              "      flex-wrap:wrap;\n",
              "      gap: 12px;\n",
              "    }\n",
              "\n",
              "    .colab-df-convert {\n",
              "      background-color: #E8F0FE;\n",
              "      border: none;\n",
              "      border-radius: 50%;\n",
              "      cursor: pointer;\n",
              "      display: none;\n",
              "      fill: #1967D2;\n",
              "      height: 32px;\n",
              "      padding: 0 0 0 0;\n",
              "      width: 32px;\n",
              "    }\n",
              "\n",
              "    .colab-df-convert:hover {\n",
              "      background-color: #E2EBFA;\n",
              "      box-shadow: 0px 1px 2px rgba(60, 64, 67, 0.3), 0px 1px 3px 1px rgba(60, 64, 67, 0.15);\n",
              "      fill: #174EA6;\n",
              "    }\n",
              "\n",
              "    [theme=dark] .colab-df-convert {\n",
              "      background-color: #3B4455;\n",
              "      fill: #D2E3FC;\n",
              "    }\n",
              "\n",
              "    [theme=dark] .colab-df-convert:hover {\n",
              "      background-color: #434B5C;\n",
              "      box-shadow: 0px 1px 3px 1px rgba(0, 0, 0, 0.15);\n",
              "      filter: drop-shadow(0px 1px 2px rgba(0, 0, 0, 0.3));\n",
              "      fill: #FFFFFF;\n",
              "    }\n",
              "  </style>\n",
              "\n",
              "      <script>\n",
              "        const buttonEl =\n",
              "          document.querySelector('#df-62e2637c-e70c-410c-8880-1f2f56a31609 button.colab-df-convert');\n",
              "        buttonEl.style.display =\n",
              "          google.colab.kernel.accessAllowed ? 'block' : 'none';\n",
              "\n",
              "        async function convertToInteractive(key) {\n",
              "          const element = document.querySelector('#df-62e2637c-e70c-410c-8880-1f2f56a31609');\n",
              "          const dataTable =\n",
              "            await google.colab.kernel.invokeFunction('convertToInteractive',\n",
              "                                                     [key], {});\n",
              "          if (!dataTable) return;\n",
              "\n",
              "          const docLinkHtml = 'Like what you see? Visit the ' +\n",
              "            '<a target=\"_blank\" href=https://colab.research.google.com/notebooks/data_table.ipynb>data table notebook</a>'\n",
              "            + ' to learn more about interactive tables.';\n",
              "          element.innerHTML = '';\n",
              "          dataTable['output_type'] = 'display_data';\n",
              "          await google.colab.output.renderOutput(dataTable, element);\n",
              "          const docLink = document.createElement('div');\n",
              "          docLink.innerHTML = docLinkHtml;\n",
              "          element.appendChild(docLink);\n",
              "        }\n",
              "      </script>\n",
              "    </div>\n",
              "  </div>\n",
              "  "
            ]
          },
          "metadata": {},
          "execution_count": 11
        }
      ],
      "source": [
        "student"
      ]
    },
    {
      "cell_type": "code",
      "execution_count": 12,
      "metadata": {
        "id": "H6RaPImyhY4W",
        "colab": {
          "base_uri": "https://localhost:8080/"
        },
        "outputId": "29217b2b-02a4-4d51-f444-9c033d12b3b8"
      },
      "outputs": [
        {
          "output_type": "execute_result",
          "data": {
            "text/plain": [
              "Index(['LEVEL', 'FAMILY ANNUAL INCOME', 'CLASS POPULATION', 'SEX',\n",
              "       'TYPE OF SEC SCHOOL ', 'READING HOUR PER WEEK ',\n",
              "       'STUDYING DREAM COURSE', 'CGPA'],\n",
              "      dtype='object')"
            ]
          },
          "metadata": {},
          "execution_count": 12
        }
      ],
      "source": [
        "student.columns"
      ]
    },
    {
      "cell_type": "code",
      "source": [],
      "metadata": {
        "id": "tryE0tVuWZ0v"
      },
      "execution_count": 15,
      "outputs": []
    },
    {
      "cell_type": "markdown",
      "metadata": {
        "id": "mMGtew3EhY4X"
      },
      "source": [
        "## LABEL ENCODING FOR SOME OF THE NON NUMERIC COLUMNS\n",
        "\n",
        "Label encoding is a technique used to convert categorical variables into numerical labels. It assigns a unique numerical value to each category within a categorical feature"
      ]
    },
    {
      "cell_type": "code",
      "execution_count": 16,
      "metadata": {
        "id": "bCJbcz9phY4X"
      },
      "outputs": [],
      "source": [
        "from sklearn.preprocessing import LabelEncoder\n",
        "\n",
        "\n",
        "# Fill missing values with mode\n",
        "student['FAMILY ANNUAL INCOME'] = student['FAMILY ANNUAL INCOME'].fillna(student['FAMILY ANNUAL INCOME'].mode().iloc[0])\n",
        "student['STUDYING DREAM COURSE'] = student['STUDYING DREAM COURSE'].fillna(student['STUDYING DREAM COURSE'].mode().iloc[0])\n",
        "student['CLASS POPULATION'] = student['CLASS POPULATION'].fillna(student['CLASS POPULATION'].mode().iloc[0])\n",
        "\n",
        "# Create an instance of LabelEncoder\n",
        "encoder = LabelEncoder()\n",
        "\n",
        "# Fit the encoder on each column Transform each column\n",
        "student['FAMILY ANNUAL INCOME'] = encoder.fit_transform(student['FAMILY ANNUAL INCOME'])\n",
        "student['STUDYING DREAM COURSE'] = encoder.fit_transform(student['STUDYING DREAM COURSE'])\n",
        "student['SEX'] = encoder.fit_transform(student['SEX'])\n",
        "student['CLASS POPULATION'] = encoder.fit_transform(student['CLASS POPULATION'])\n",
        "student['READING HOUR PER WEEK '] = encoder.fit_transform(student['READING HOUR PER WEEK '])\n",
        "student['TYPE OF SEC SCHOOL '] = encoder.fit_transform(student['TYPE OF SEC SCHOOL '])\n",
        "\n",
        "\n"
      ]
    },
    {
      "cell_type": "code",
      "execution_count": 17,
      "metadata": {
        "id": "Icz2bu8MhY4Y",
        "colab": {
          "base_uri": "https://localhost:8080/",
          "height": 423
        },
        "outputId": "60013c46-ab74-454b-e40c-cb2ce601c190"
      },
      "outputs": [
        {
          "output_type": "execute_result",
          "data": {
            "text/plain": [
              "      LEVEL  FAMILY ANNUAL INCOME  CLASS POPULATION  SEX  TYPE OF SEC SCHOOL   \\\n",
              "0    Year 2                     2                 3    0                    1   \n",
              "1    Year 4                     2                 3    0                    0   \n",
              "2    Year 4                     2                 3    1                    1   \n",
              "3    Year 1                     2                 3    0                    1   \n",
              "4    Year 2                     0                 3    1                    0   \n",
              "..      ...                   ...               ...  ...                  ...   \n",
              "259  Year 3                     2                 3    1                    0   \n",
              "260  Year 2                     2                 3    1                    1   \n",
              "261  Year 3                     2                 3    1                    0   \n",
              "262  Year 3                     2                 3    1                    0   \n",
              "263  Year 3                     2                 3    1                    1   \n",
              "\n",
              "     READING HOUR PER WEEK   STUDYING DREAM COURSE  CGPA  \n",
              "0                         0                      0  4.52  \n",
              "1                         0                      0  2.35  \n",
              "2                         0                      1   3.4  \n",
              "3                         1                      0  3.82  \n",
              "4                         2                      1   3.5  \n",
              "..                      ...                    ...   ...  \n",
              "259                       0                      1   4.0  \n",
              "260                       2                      1   3.8  \n",
              "261                       0                      1   3.9  \n",
              "262                       0                      0   2.8  \n",
              "263                       2                      1   3.5  \n",
              "\n",
              "[264 rows x 8 columns]"
            ],
            "text/html": [
              "\n",
              "  <div id=\"df-f8c1ad8e-ae1f-426c-8452-fe71f55616bf\">\n",
              "    <div class=\"colab-df-container\">\n",
              "      <div>\n",
              "<style scoped>\n",
              "    .dataframe tbody tr th:only-of-type {\n",
              "        vertical-align: middle;\n",
              "    }\n",
              "\n",
              "    .dataframe tbody tr th {\n",
              "        vertical-align: top;\n",
              "    }\n",
              "\n",
              "    .dataframe thead th {\n",
              "        text-align: right;\n",
              "    }\n",
              "</style>\n",
              "<table border=\"1\" class=\"dataframe\">\n",
              "  <thead>\n",
              "    <tr style=\"text-align: right;\">\n",
              "      <th></th>\n",
              "      <th>LEVEL</th>\n",
              "      <th>FAMILY ANNUAL INCOME</th>\n",
              "      <th>CLASS POPULATION</th>\n",
              "      <th>SEX</th>\n",
              "      <th>TYPE OF SEC SCHOOL</th>\n",
              "      <th>READING HOUR PER WEEK</th>\n",
              "      <th>STUDYING DREAM COURSE</th>\n",
              "      <th>CGPA</th>\n",
              "    </tr>\n",
              "  </thead>\n",
              "  <tbody>\n",
              "    <tr>\n",
              "      <th>0</th>\n",
              "      <td>Year 2</td>\n",
              "      <td>2</td>\n",
              "      <td>3</td>\n",
              "      <td>0</td>\n",
              "      <td>1</td>\n",
              "      <td>0</td>\n",
              "      <td>0</td>\n",
              "      <td>4.52</td>\n",
              "    </tr>\n",
              "    <tr>\n",
              "      <th>1</th>\n",
              "      <td>Year 4</td>\n",
              "      <td>2</td>\n",
              "      <td>3</td>\n",
              "      <td>0</td>\n",
              "      <td>0</td>\n",
              "      <td>0</td>\n",
              "      <td>0</td>\n",
              "      <td>2.35</td>\n",
              "    </tr>\n",
              "    <tr>\n",
              "      <th>2</th>\n",
              "      <td>Year 4</td>\n",
              "      <td>2</td>\n",
              "      <td>3</td>\n",
              "      <td>1</td>\n",
              "      <td>1</td>\n",
              "      <td>0</td>\n",
              "      <td>1</td>\n",
              "      <td>3.4</td>\n",
              "    </tr>\n",
              "    <tr>\n",
              "      <th>3</th>\n",
              "      <td>Year 1</td>\n",
              "      <td>2</td>\n",
              "      <td>3</td>\n",
              "      <td>0</td>\n",
              "      <td>1</td>\n",
              "      <td>1</td>\n",
              "      <td>0</td>\n",
              "      <td>3.82</td>\n",
              "    </tr>\n",
              "    <tr>\n",
              "      <th>4</th>\n",
              "      <td>Year 2</td>\n",
              "      <td>0</td>\n",
              "      <td>3</td>\n",
              "      <td>1</td>\n",
              "      <td>0</td>\n",
              "      <td>2</td>\n",
              "      <td>1</td>\n",
              "      <td>3.5</td>\n",
              "    </tr>\n",
              "    <tr>\n",
              "      <th>...</th>\n",
              "      <td>...</td>\n",
              "      <td>...</td>\n",
              "      <td>...</td>\n",
              "      <td>...</td>\n",
              "      <td>...</td>\n",
              "      <td>...</td>\n",
              "      <td>...</td>\n",
              "      <td>...</td>\n",
              "    </tr>\n",
              "    <tr>\n",
              "      <th>259</th>\n",
              "      <td>Year 3</td>\n",
              "      <td>2</td>\n",
              "      <td>3</td>\n",
              "      <td>1</td>\n",
              "      <td>0</td>\n",
              "      <td>0</td>\n",
              "      <td>1</td>\n",
              "      <td>4.0</td>\n",
              "    </tr>\n",
              "    <tr>\n",
              "      <th>260</th>\n",
              "      <td>Year 2</td>\n",
              "      <td>2</td>\n",
              "      <td>3</td>\n",
              "      <td>1</td>\n",
              "      <td>1</td>\n",
              "      <td>2</td>\n",
              "      <td>1</td>\n",
              "      <td>3.8</td>\n",
              "    </tr>\n",
              "    <tr>\n",
              "      <th>261</th>\n",
              "      <td>Year 3</td>\n",
              "      <td>2</td>\n",
              "      <td>3</td>\n",
              "      <td>1</td>\n",
              "      <td>0</td>\n",
              "      <td>0</td>\n",
              "      <td>1</td>\n",
              "      <td>3.9</td>\n",
              "    </tr>\n",
              "    <tr>\n",
              "      <th>262</th>\n",
              "      <td>Year 3</td>\n",
              "      <td>2</td>\n",
              "      <td>3</td>\n",
              "      <td>1</td>\n",
              "      <td>0</td>\n",
              "      <td>0</td>\n",
              "      <td>0</td>\n",
              "      <td>2.8</td>\n",
              "    </tr>\n",
              "    <tr>\n",
              "      <th>263</th>\n",
              "      <td>Year 3</td>\n",
              "      <td>2</td>\n",
              "      <td>3</td>\n",
              "      <td>1</td>\n",
              "      <td>1</td>\n",
              "      <td>2</td>\n",
              "      <td>1</td>\n",
              "      <td>3.5</td>\n",
              "    </tr>\n",
              "  </tbody>\n",
              "</table>\n",
              "<p>264 rows × 8 columns</p>\n",
              "</div>\n",
              "      <button class=\"colab-df-convert\" onclick=\"convertToInteractive('df-f8c1ad8e-ae1f-426c-8452-fe71f55616bf')\"\n",
              "              title=\"Convert this dataframe to an interactive table.\"\n",
              "              style=\"display:none;\">\n",
              "        \n",
              "  <svg xmlns=\"http://www.w3.org/2000/svg\" height=\"24px\"viewBox=\"0 0 24 24\"\n",
              "       width=\"24px\">\n",
              "    <path d=\"M0 0h24v24H0V0z\" fill=\"none\"/>\n",
              "    <path d=\"M18.56 5.44l.94 2.06.94-2.06 2.06-.94-2.06-.94-.94-2.06-.94 2.06-2.06.94zm-11 1L8.5 8.5l.94-2.06 2.06-.94-2.06-.94L8.5 2.5l-.94 2.06-2.06.94zm10 10l.94 2.06.94-2.06 2.06-.94-2.06-.94-.94-2.06-.94 2.06-2.06.94z\"/><path d=\"M17.41 7.96l-1.37-1.37c-.4-.4-.92-.59-1.43-.59-.52 0-1.04.2-1.43.59L10.3 9.45l-7.72 7.72c-.78.78-.78 2.05 0 2.83L4 21.41c.39.39.9.59 1.41.59.51 0 1.02-.2 1.41-.59l7.78-7.78 2.81-2.81c.8-.78.8-2.07 0-2.86zM5.41 20L4 18.59l7.72-7.72 1.47 1.35L5.41 20z\"/>\n",
              "  </svg>\n",
              "      </button>\n",
              "      \n",
              "  <style>\n",
              "    .colab-df-container {\n",
              "      display:flex;\n",
              "      flex-wrap:wrap;\n",
              "      gap: 12px;\n",
              "    }\n",
              "\n",
              "    .colab-df-convert {\n",
              "      background-color: #E8F0FE;\n",
              "      border: none;\n",
              "      border-radius: 50%;\n",
              "      cursor: pointer;\n",
              "      display: none;\n",
              "      fill: #1967D2;\n",
              "      height: 32px;\n",
              "      padding: 0 0 0 0;\n",
              "      width: 32px;\n",
              "    }\n",
              "\n",
              "    .colab-df-convert:hover {\n",
              "      background-color: #E2EBFA;\n",
              "      box-shadow: 0px 1px 2px rgba(60, 64, 67, 0.3), 0px 1px 3px 1px rgba(60, 64, 67, 0.15);\n",
              "      fill: #174EA6;\n",
              "    }\n",
              "\n",
              "    [theme=dark] .colab-df-convert {\n",
              "      background-color: #3B4455;\n",
              "      fill: #D2E3FC;\n",
              "    }\n",
              "\n",
              "    [theme=dark] .colab-df-convert:hover {\n",
              "      background-color: #434B5C;\n",
              "      box-shadow: 0px 1px 3px 1px rgba(0, 0, 0, 0.15);\n",
              "      filter: drop-shadow(0px 1px 2px rgba(0, 0, 0, 0.3));\n",
              "      fill: #FFFFFF;\n",
              "    }\n",
              "  </style>\n",
              "\n",
              "      <script>\n",
              "        const buttonEl =\n",
              "          document.querySelector('#df-f8c1ad8e-ae1f-426c-8452-fe71f55616bf button.colab-df-convert');\n",
              "        buttonEl.style.display =\n",
              "          google.colab.kernel.accessAllowed ? 'block' : 'none';\n",
              "\n",
              "        async function convertToInteractive(key) {\n",
              "          const element = document.querySelector('#df-f8c1ad8e-ae1f-426c-8452-fe71f55616bf');\n",
              "          const dataTable =\n",
              "            await google.colab.kernel.invokeFunction('convertToInteractive',\n",
              "                                                     [key], {});\n",
              "          if (!dataTable) return;\n",
              "\n",
              "          const docLinkHtml = 'Like what you see? Visit the ' +\n",
              "            '<a target=\"_blank\" href=https://colab.research.google.com/notebooks/data_table.ipynb>data table notebook</a>'\n",
              "            + ' to learn more about interactive tables.';\n",
              "          element.innerHTML = '';\n",
              "          dataTable['output_type'] = 'display_data';\n",
              "          await google.colab.output.renderOutput(dataTable, element);\n",
              "          const docLink = document.createElement('div');\n",
              "          docLink.innerHTML = docLinkHtml;\n",
              "          element.appendChild(docLink);\n",
              "        }\n",
              "      </script>\n",
              "    </div>\n",
              "  </div>\n",
              "  "
            ]
          },
          "metadata": {},
          "execution_count": 17
        }
      ],
      "source": [
        "student"
      ]
    },
    {
      "cell_type": "code",
      "execution_count": 25,
      "metadata": {
        "id": "FgmO6-KXhY4Y"
      },
      "outputs": [],
      "source": [
        "import matplotlib.pyplot as plt\n",
        "\n"
      ]
    },
    {
      "cell_type": "code",
      "source": [
        "# Group students by family wealth and calculate the average CGPA\n",
        "wealth_groups = student.groupby('FAMILY ANNUAL INCOME')['CGPA'].median()\n",
        "\n",
        "# Convert the wealth groups to strings\n",
        "wealth_categories = wealth_groups.index.astype(str)\n",
        "\n",
        "# Plot the bar chart\n",
        "plt.bar(wealth_categories, wealth_groups.values)\n",
        "plt.xlabel('Family Wealth')\n",
        "plt.ylabel('Average CGPA')\n",
        "plt.title('Impact of Family Wealth on CGPA')\n",
        "plt.show()"
      ],
      "metadata": {
        "colab": {
          "base_uri": "https://localhost:8080/",
          "height": 472
        },
        "id": "yzdUupgNZlqX",
        "outputId": "68a71021-1598-40ea-e158-c06beda939ad"
      },
      "execution_count": 32,
      "outputs": [
        {
          "output_type": "display_data",
          "data": {
            "text/plain": [
              "<Figure size 640x480 with 1 Axes>"
            ],
            "image/png": "[encoded data removed]"
          },
          "metadata": {}
        }
      ]
    },
    {
      "cell_type": "code",
      "execution_count": null,
      "metadata": {
        "id": "rzkbohSUhY4Y"
      },
      "outputs": [],
      "source": [
        "print(student.columns)\n"
      ]
    },
    {
      "cell_type": "code",
      "execution_count": null,
      "metadata": {
        "collapsed": true,
        "id": "HbAjfvovhY4Z"
      },
      "outputs": [],
      "source": []
    },
    {
      "cell_type": "code",
      "execution_count": null,
      "metadata": {
        "id": "PXuc8-t2hY4Z"
      },
      "outputs": [],
      "source": [
        "# Separate the independent variables (features)\n",
        "variable_names = ['FAMILY ANNUAL INCOME', 'CLASS POPULATION', 'SEX',\n",
        "       'TYPE OF SEC SCHOOL ', 'READING HOUR PER WEEK ',\n",
        "       'STUDYING DREAM COURSE']\n",
        "features = student[variable_names]\n",
        "\n",
        "# Separate the target variable\n",
        "target_variable = student['CGPA']\n",
        "\n",
        "# Display the features\n",
        "features"
      ]
    },
    {
      "cell_type": "code",
      "execution_count": null,
      "metadata": {
        "collapsed": true,
        "id": "JhiYzXdXhY4Z"
      },
      "outputs": [],
      "source": [
        "# Handle missing values by filling with mean\n",
        "features = features.fillna(features.mean())\n",
        "target_variable = target_variable.fillna(target_variable.mean())"
      ]
    },
    {
      "cell_type": "code",
      "execution_count": null,
      "metadata": {
        "id": "gsl_U7y1hY4Z"
      },
      "outputs": [],
      "source": [
        "# Discretize the target variable into three classes since decision treec ann not handle continous data\n",
        "# Define the bins for discretization\n",
        "bins = [0,1.99, 2.99, 3.99, 4.99] # Example bin edges\n",
        "\n",
        "# Convert the continuous target variable into categorical labels\n",
        "labels = [ 'THIRD CLASS','SECOND CLASS LOWER', 'SECOND CLASS UPPER', 'FIRST CLASS']  # Example class labels\n",
        "discretized_target = pd.cut(target_variable, bins=bins, labels=labels)\n"
      ]
    },
    {
      "cell_type": "markdown",
      "metadata": {
        "id": "HKdLKaefhY4a"
      },
      "source": [
        "## Dividing the dataset into training and testing sets."
      ]
    },
    {
      "cell_type": "code",
      "execution_count": null,
      "metadata": {
        "collapsed": true,
        "id": "2wVv3-umhY4a"
      },
      "outputs": [],
      "source": [
        "from sklearn.model_selection import train_test_split\n",
        "from sklearn.tree import DecisionTreeClassifier\n",
        "# Split the data into training and testing sets\n",
        "X_train, X_test, y_train, y_test = train_test_split(features, discretized_target, test_size=0.2, random_state=42)"
      ]
    },
    {
      "cell_type": "markdown",
      "metadata": {
        "id": "2uYL9YVOhY4a"
      },
      "source": [
        "## Using the training dataset to train a decision tree classifier"
      ]
    },
    {
      "cell_type": "code",
      "execution_count": null,
      "metadata": {
        "id": "sz7YBt4rhY4b"
      },
      "outputs": [],
      "source": [
        "# Create a decision tree classifier\n",
        "classifier = DecisionTreeClassifier()\n",
        "\n",
        "# Train the classifier on the training data\n",
        "classifier.fit(X_train, y_train)"
      ]
    },
    {
      "cell_type": "markdown",
      "metadata": {
        "id": "dnIOo0-XhY4b"
      },
      "source": [
        "## making prediction using the test data"
      ]
    },
    {
      "cell_type": "code",
      "execution_count": null,
      "metadata": {
        "id": "QHZVgj41hY4b"
      },
      "outputs": [],
      "source": [
        "\n",
        "# Make predictions on the test data\n",
        "y_pred = classifier.predict(X_test)\n",
        "\n",
        "# Calculate the accuracy of the classifier\n",
        "#accuracy = accuracy_score(y_test, y_pred)\n",
        "#print('Accuracy:', accuracy)\n",
        "y_pred"
      ]
    },
    {
      "cell_type": "markdown",
      "metadata": {
        "id": "ExuQ3UJKhY4b"
      },
      "source": [
        "## Model Evaluation"
      ]
    },
    {
      "cell_type": "code",
      "execution_count": null,
      "metadata": {
        "scrolled": true,
        "id": "nwt_OBD6hY4b"
      },
      "outputs": [],
      "source": [
        "from sklearn.metrics import accuracy_score\n",
        "\n",
        "# Calculate the accuracy of the classifier\n",
        "accuracy = accuracy_score(y_test, y_pred)\n",
        "print('Accuracy:', accuracy)"
      ]
    },
    {
      "cell_type": "markdown",
      "metadata": {
        "id": "0sMQSLlahY4c"
      },
      "source": [
        "## Model evaluation using precision, recall, F1 score, and confusion matrix"
      ]
    },
    {
      "cell_type": "code",
      "execution_count": null,
      "metadata": {
        "id": "u-7UpcB5hY4c"
      },
      "outputs": [],
      "source": [
        "from sklearn.metrics import confusion_matrix, classification_report\n",
        "\n",
        "# Calculate the confusion matrix\n",
        "confusion_mat = confusion_matrix(y_test, y_pred)\n",
        "print(\"Confusion Matrix:\")\n",
        "print(confusion_mat)\n",
        "\n",
        "# Calculate precision, recall, and F1 score\n",
        "classification_rep = classification_report(y_test, y_pred)\n",
        "print(\"Classification Report:\")\n",
        "print(classification_rep)"
      ]
    },
    {
      "cell_type": "markdown",
      "metadata": {
        "collapsed": true,
        "id": "LFjvlGZbhY4c"
      },
      "source": [
        "## Hyperparameter Tuning to improve the model's performance"
      ]
    },
    {
      "cell_type": "code",
      "execution_count": null,
      "metadata": {
        "id": "0Im89vjghY4c"
      },
      "outputs": [],
      "source": [
        "# Create a decision tree classifier\n",
        "classifier = DecisionTreeClassifier(max_depth=10, min_samples_split=2, criterion='gini')\n",
        "\n",
        "# Train the classifier on the training data\n",
        "classifier.fit(X_train, y_train)"
      ]
    },
    {
      "cell_type": "code",
      "execution_count": null,
      "metadata": {
        "id": "37z3dWfOhY4c"
      },
      "outputs": [],
      "source": [
        "accuracy = accuracy_score(y_test, y_pred)\n",
        "print('Accuracy:', accuracy)"
      ]
    },
    {
      "cell_type": "markdown",
      "metadata": {
        "id": "95fX5xRKhY4d"
      },
      "source": [
        "## Model Interpretation\n",
        "\n",
        "Access the decision tree model trained on your data (classifier) and visualize its structure using graphical representations such as plot_tree from the sklearn.tree module. This will give you a visual representation of how the tree is structured, including the decision rules and the flow of the tree."
      ]
    },
    {
      "cell_type": "code",
      "execution_count": null,
      "metadata": {
        "id": "oOPPU3b2hY4d"
      },
      "outputs": [],
      "source": [
        "import matplotlib.pyplot as plt\n",
        "from sklearn import tree\n",
        "\n",
        "plt.figure(figsize=(10, 8))\n",
        "tree.plot_tree(classifier, filled=True)\n",
        "plt.show()"
      ]
    },
    {
      "cell_type": "code",
      "source": [
        "feature_importance = classifier.feature_importances_"
      ],
      "metadata": {
        "id": "rcW52x6Cu1Os"
      },
      "execution_count": null,
      "outputs": []
    },
    {
      "cell_type": "markdown",
      "source": [
        "## Below is a visualization to gain insights into the decision-making process of the model and identify the key factors that influence academic performance according to the model's perspective."
      ],
      "metadata": {
        "id": "gyrxp7xCy3yd"
      }
    },
    {
      "cell_type": "code",
      "source": [
        "  import numpy as np\n",
        "\n",
        "plt.figure(figsize=(8, 6))\n",
        "plt.barh(variable_names, feature_importance)\n",
        "plt.xlabel('Feature Importance')\n",
        "plt.ylabel('Features')\n",
        "plt.title('Decision Tree - Feature Importance')\n",
        "plt.show()"
      ],
      "metadata": {
        "id": "skaQWdyQwDpJ"
      },
      "execution_count": null,
      "outputs": []
    },
    {
      "cell_type": "markdown",
      "source": [
        "From the bar chat above it indicate that Reading hours and family annual income plays a major in the performance of a student and sex have less significant impart on the performance of the student."
      ],
      "metadata": {
        "id": "Y53Mz5t6zYiF"
      }
    }
  ],
  "metadata": {
    "kernelspec": {
      "display_name": "Python 3",
      "language": "python",
      "name": "python3"
    },
    "language_info": {
      "codemirror_mode": {
        "name": "ipython",
        "version": 3
      },
      "file_extension": ".py",
      "mimetype": "text/x-python",
      "name": "python",
      "nbconvert_exporter": "python",
      "pygments_lexer": "ipython3",
      "version": "3.6.0"
    },
    "colab": {
      "provenance": [],
      "include_colab_link": true
    }
  },
  "nbformat": 4,
  "nbformat_minor": 0
}